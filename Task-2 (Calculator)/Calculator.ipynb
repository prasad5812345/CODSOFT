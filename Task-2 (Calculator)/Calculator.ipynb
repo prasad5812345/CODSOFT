{
 "cells": [
  {
   "cell_type": "markdown",
   "id": "302ef617",
   "metadata": {},
   "source": [
    "# Importing tkinter library\n"
   ]
  },
  {
   "cell_type": "code",
   "execution_count": 1,
   "id": "3f246e3c",
   "metadata": {},
   "outputs": [],
   "source": [
    "import tkinter as tk\n",
    "from tkinter import font as tkFont"
   ]
  },
  {
   "cell_type": "markdown",
   "id": "1bb7a2e6",
   "metadata": {},
   "source": [
    "# Function to update the expression in the input field\n"
   ]
  },
  {
   "cell_type": "code",
   "execution_count": 2,
   "id": "d240d696",
   "metadata": {},
   "outputs": [],
   "source": [
    "def press(num):\n",
    "    global expression\n",
    "    expression = expression + str(num)\n",
    "    equation.set(expression)"
   ]
  },
  {
   "cell_type": "markdown",
   "id": "eda8dbf7",
   "metadata": {},
   "source": [
    "# Function to evaluate the final expression\n"
   ]
  },
  {
   "cell_type": "code",
   "execution_count": 3,
   "id": "ec2f8dac",
   "metadata": {},
   "outputs": [],
   "source": [
    "def equalpress():\n",
    "    try:\n",
    "        global expression\n",
    "        total = str(eval(expression))  \n",
    "        equation.set(total)\n",
    "        expression = total\n",
    "    except:\n",
    "        equation.set(\" error \")\n",
    "        expression = \"\""
   ]
  },
  {
   "cell_type": "markdown",
   "id": "1afbfc1c",
   "metadata": {},
   "source": [
    "# Function to clear the input field\n"
   ]
  },
  {
   "cell_type": "code",
   "execution_count": 4,
   "id": "db56cfbf",
   "metadata": {},
   "outputs": [],
   "source": [
    "def clear():\n",
    "    global expression\n",
    "    expression = \"\"\n",
    "    equation.set(\"\")"
   ]
  },
  {
   "cell_type": "markdown",
   "id": "e2f0db92",
   "metadata": {},
   "source": [
    "# Function to handle keypress events\n"
   ]
  },
  {
   "cell_type": "code",
   "execution_count": 5,
   "id": "2c0dced1",
   "metadata": {},
   "outputs": [],
   "source": [
    "def key_event(event):\n",
    "    char = event.char\n",
    "    if char.isdigit() or char in \"+-*/\":\n",
    "        press(char)\n",
    "    elif char == '\\r':  \n",
    "        equalpress()\n",
    "    elif char == '\\x08':  # Backspace key to clear\n",
    "        clear()"
   ]
  },
  {
   "cell_type": "markdown",
   "id": "e33fe215",
   "metadata": {},
   "source": [
    "# Main GUI\n"
   ]
  },
  {
   "cell_type": "code",
   "execution_count": 6,
   "id": "e5acf64d",
   "metadata": {},
   "outputs": [],
   "source": [
    "root = tk.Tk()\n",
    "root.title(\"Calculator\")\n",
    "root.geometry(\"420x600\")\n",
    "root.configure(bg=\"#1E1E1E\")"
   ]
  },
  {
   "cell_type": "markdown",
   "id": "5312672b",
   "metadata": {},
   "source": [
    "# Set up fonts\n"
   ]
  },
  {
   "cell_type": "code",
   "execution_count": 7,
   "id": "9da20c2d",
   "metadata": {},
   "outputs": [],
   "source": [
    "display_font = tkFont.Font(family='Helvetica', size=24, weight='bold')\n",
    "button_font = tkFont.Font(family='Helvetica', size=18, weight='bold')\n",
    "title_font = tkFont.Font(family='Helvetica', size=22, weight='bold')"
   ]
  },
  {
   "cell_type": "markdown",
   "id": "9767e3a5",
   "metadata": {},
   "source": [
    "# Global expression variable & Create StringVar to store the equation\n"
   ]
  },
  {
   "cell_type": "code",
   "execution_count": 8,
   "id": "d3489dc6",
   "metadata": {},
   "outputs": [],
   "source": [
    "expression = \"\"\n",
    "equation = tk.StringVar()"
   ]
  },
  {
   "cell_type": "markdown",
   "id": "7c6c5913",
   "metadata": {},
   "source": [
    "# Title Label and Display Screen\n"
   ]
  },
  {
   "cell_type": "code",
   "execution_count": 9,
   "id": "8b91c773",
   "metadata": {},
   "outputs": [],
   "source": [
    "\n",
    "title_label = tk.Label(root, text=\" CALCULATOR\", font=title_font, fg=\"#FF8C00\", bg=\"#1E1E1E\")\n",
    "title_label.grid(row=0, column=0, columnspan=4, pady=10)\n",
    "\n",
    "display = tk.Entry(root, textvariable=equation, font=display_font, justify='right', bd=10, bg=\"#333333\", fg=\"white\")\n",
    "display.grid(row=1, column=0, columnspan=4, ipadx=8, ipady=15, padx=10, pady=10)"
   ]
  },
  {
   "cell_type": "markdown",
   "id": "c30a3d37",
   "metadata": {},
   "source": [
    "# Creating a function for the button design\n"
   ]
  },
  {
   "cell_type": "code",
   "execution_count": 10,
   "id": "a19bf61c",
   "metadata": {},
   "outputs": [],
   "source": [
    "def create_button(text, row, col, color=\"#393E46\", command=None, width=5, height=2):\n",
    "    return tk.Button(root, text=text, font=button_font, fg=\"white\", bg=color, bd=0, command=command,\n",
    "                     width=width, height=height).grid(row=row, column=col, padx=5, pady=5)"
   ]
  },
  {
   "cell_type": "markdown",
   "id": "2fdf4484",
   "metadata": {},
   "source": [
    "# Buttons layout as per the design\n"
   ]
  },
  {
   "cell_type": "code",
   "execution_count": 11,
   "id": "5a0dcaf2",
   "metadata": {},
   "outputs": [],
   "source": [
    "create_button(\"mrc\", 2, 0, color=\"#686D76\")\n",
    "create_button(\"m-\", 2, 1, color=\"#686D76\")\n",
    "create_button(\"m+\", 2, 2, color=\"#686D76\")\n",
    "create_button(\"/\", 2, 3, color=\"#1ca3b2\", command=lambda: press(\"/\"))\n",
    "\n",
    "create_button(\"7\", 3, 0, color=\"#393E46\", command=lambda: press(7))\n",
    "create_button(\"8\", 3, 1, color=\"#393E46\", command=lambda: press(8))\n",
    "create_button(\"9\", 3, 2, color=\"#393E46\", command=lambda: press(9))\n",
    "create_button(\"*\", 3, 3, color=\"#1ca3b2\", command=lambda: press(\"*\"))  \n",
    "\n",
    "create_button(\"4\", 4, 0, color=\"#393E46\", command=lambda: press(4))\n",
    "create_button(\"5\", 4, 1, color=\"#393E46\", command=lambda: press(5))\n",
    "create_button(\"6\", 4, 2, color=\"#393E46\", command=lambda: press(6))\n",
    "create_button(\"-\", 4, 3, color=\"#1ca3b2\", command=lambda: press(\"-\"))\n",
    "\n",
    "create_button(\"1\", 5, 0, color=\"#393E46\", command=lambda: press(1))\n",
    "create_button(\"2\", 5, 1, color=\"#393E46\", command=lambda: press(2))\n",
    "create_button(\"3\", 5, 2, color=\"#393E46\", command=lambda: press(3))\n",
    "create_button(\"+\", 5, 3, color=\"#1ca3b2\", command=lambda: press(\"+\"))\n",
    "\n",
    "create_button(\"0\", 6, 0, color=\"#393E46\", command=lambda: press(0))\n",
    "create_button(\".\", 6, 1, color=\"#393E46\", command=lambda: press(\".\"))\n",
    "create_button(\"C\", 6, 2, color=\"#FF5722\", command=clear)\n",
    "create_button(\"=\", 6, 3, color=\"#5eb03a\", command=equalpress)"
   ]
  },
  {
   "cell_type": "markdown",
   "id": "bfb539bb",
   "metadata": {},
   "source": [
    "# Bind keypress events to the root window\n",
    "# Run the GUI\n"
   ]
  },
  {
   "cell_type": "code",
   "execution_count": 12,
   "id": "b255fdd0",
   "metadata": {},
   "outputs": [],
   "source": [
    "root.bind(\"<Key>\", key_event)\n",
    "\n",
    "root.mainloop()"
   ]
  }
 ],
 "metadata": {
  "kernelspec": {
   "display_name": "Python 3 (ipykernel)",
   "language": "python",
   "name": "python3"
  },
  "language_info": {
   "codemirror_mode": {
    "name": "ipython",
    "version": 3
   },
   "file_extension": ".py",
   "mimetype": "text/x-python",
   "name": "python",
   "nbconvert_exporter": "python",
   "pygments_lexer": "ipython3",
   "version": "3.9.12"
  }
 },
 "nbformat": 4,
 "nbformat_minor": 5
}
