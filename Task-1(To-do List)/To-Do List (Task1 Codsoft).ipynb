{
 "cells": [
  {
   "cell_type": "markdown",
   "id": "0994b39f",
   "metadata": {},
   "source": [
    "## Importing Tkinter and Simpledialog Libraries\n"
   ]
  },
  {
   "cell_type": "code",
   "execution_count": 1,
   "id": "0b565def",
   "metadata": {},
   "outputs": [],
   "source": [
    "import tkinter as tk\n",
    "from tkinter import simpledialog"
   ]
  },
  {
   "cell_type": "markdown",
   "id": "0bb0ade7",
   "metadata": {},
   "source": [
    "## Task Management Functions (Add, Remove, Edit, Modify)\n"
   ]
  },
  {
   "cell_type": "code",
   "execution_count": 2,
   "id": "24871719",
   "metadata": {},
   "outputs": [],
   "source": [
    "def add_task():\n",
    "    task = task_entry.get()\n",
    "    if task:\n",
    "        task_listbox.insert(tk.END, task)\n",
    "        task_entry.delete(0, tk.END)\n",
    "\n",
    "\n",
    "def remove_task():\n",
    "    selected_task_index = task_listbox.curselection()\n",
    "    if selected_task_index:\n",
    "        task_listbox.delete(selected_task_index)\n",
    "        \n",
    "\n",
    "def edit_task():\n",
    "    selected_task_index = task_listbox.curselection()\n",
    "    if selected_task_index:\n",
    "        current_task = task_listbox.get(selected_task_index)\n",
    "        task_entry.delete(0, tk.END)  \n",
    "        task_entry.insert(tk.END, current_task)  \n",
    "\n",
    "\n",
    "def modify_task():\n",
    "    selected_task_index = task_listbox.curselection()\n",
    "    if selected_task_index:\n",
    "        new_task = task_entry.get()\n",
    "        if new_task:\n",
    "            task_listbox.delete(selected_task_index)\n",
    "            task_listbox.insert(selected_task_index, new_task)\n",
    "            task_entry.delete(0, tk.END)"
   ]
  },
  {
   "cell_type": "markdown",
   "id": "f47cd797",
   "metadata": {},
   "source": [
    "## Create the main window and Header Label"
   ]
  },
  {
   "cell_type": "code",
   "execution_count": 3,
   "id": "9140221d",
   "metadata": {},
   "outputs": [],
   "source": [
    "root = tk.Tk()\n",
    "root.title(\"To-Do List\")\n",
    "root.geometry(\"500x400\")\n",
    "root.configure(bg=\"#f7f7f7\")\n",
    "\n",
    "header_label = tk.Label(root, text=\"My To-Do List\", font=(\"Arial\", 18, \"bold\"), bg=\"#5ca2e7\", fg=\"white\", pady=10)\n",
    "header_label.pack(fill=tk.X)"
   ]
  },
  {
   "cell_type": "markdown",
   "id": "181ad6d7",
   "metadata": {},
   "source": [
    "## Entry widget to add/edit tasks"
   ]
  },
  {
   "cell_type": "code",
   "execution_count": 4,
   "id": "fbbbef6f",
   "metadata": {},
   "outputs": [],
   "source": [
    "task_entry = tk.Entry(root, width=40, font=(\"Arial\", 12), bg=\"#dfe6e9\", fg=\"#2d3436\")\n",
    "task_entry.pack(pady=10)"
   ]
  },
  {
   "cell_type": "markdown",
   "id": "24371cb5",
   "metadata": {},
   "source": [
    "## Frame for the buttons and Button styles"
   ]
  },
  {
   "cell_type": "code",
   "execution_count": 5,
   "id": "de66ae31",
   "metadata": {},
   "outputs": [],
   "source": [
    "button_frame = tk.Frame(root, bg=\"#f7f7f7\")\n",
    "button_frame.pack(pady=10)\n",
    "button_style = {\n",
    "    \"font\": (\"Arial\", 12, \"bold\"),\n",
    "    \"bg\": \"#248c8d\",\n",
    "    \"fg\": \"white\",\n",
    "    \"activebackground\": \"#72c54e\",\n",
    "    \"activeforeground\": \"white\",\n",
    "    \"relief\": tk.GROOVE,\n",
    "    \"bd\": 2,\n",
    "    \"padx\": 10,\n",
    "    \"pady\": 5,\n",
    "}"
   ]
  },
  {
   "cell_type": "markdown",
   "id": "a2540766",
   "metadata": {},
   "source": [
    "## Button Setup for Task Management\n"
   ]
  },
  {
   "cell_type": "code",
   "execution_count": 6,
   "id": "3f10b0ad",
   "metadata": {},
   "outputs": [],
   "source": [
    "add_button = tk.Button(button_frame, text=\"Add Task\", command=add_task, **button_style)\n",
    "add_button.grid(row=0, column=0, padx=5)\n",
    "\n",
    "remove_button = tk.Button(button_frame, text=\"Remove Task\", command=remove_task, **button_style)\n",
    "remove_button.grid(row=0, column=1, padx=5)\n",
    "\n",
    "edit_button = tk.Button(button_frame, text=\"Edit Task\", command=edit_task, **button_style)\n",
    "edit_button.grid(row=0, column=2, padx=5)\n",
    "\n",
    "modify_button = tk.Button(button_frame, text=\"Modify Task\", command=modify_task, **button_style)\n",
    "modify_button.grid(row=0, column=3, padx=5)"
   ]
  },
  {
   "cell_type": "markdown",
   "id": "0c846a0d",
   "metadata": {},
   "source": [
    "## Listbox to display tasks"
   ]
  },
  {
   "cell_type": "code",
   "execution_count": 7,
   "id": "92c3440f",
   "metadata": {},
   "outputs": [],
   "source": [
    "task_listbox = tk.Listbox(root, height=10, width=50, font=(\"Arial\", 12), bg=\"#dfe6e9\", fg=\"#2d3436\", selectbackground=\"#134f5c\", selectforeground=\"white\")\n",
    "task_listbox.pack(pady=10)"
   ]
  },
  {
   "cell_type": "markdown",
   "id": "36a135a2",
   "metadata": {},
   "source": [
    "## Run the application"
   ]
  },
  {
   "cell_type": "code",
   "execution_count": 8,
   "id": "697043d3",
   "metadata": {},
   "outputs": [],
   "source": [
    "root.mainloop()"
   ]
  },
  {
   "cell_type": "code",
   "execution_count": null,
   "id": "ed8606ea",
   "metadata": {},
   "outputs": [],
   "source": []
  }
 ],
 "metadata": {
  "kernelspec": {
   "display_name": "Python 3 (ipykernel)",
   "language": "python",
   "name": "python3"
  },
  "language_info": {
   "codemirror_mode": {
    "name": "ipython",
    "version": 3
   },
   "file_extension": ".py",
   "mimetype": "text/x-python",
   "name": "python",
   "nbconvert_exporter": "python",
   "pygments_lexer": "ipython3",
   "version": "3.9.12"
  }
 },
 "nbformat": 4,
 "nbformat_minor": 5
}
